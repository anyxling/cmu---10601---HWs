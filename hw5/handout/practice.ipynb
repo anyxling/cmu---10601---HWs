{
 "cells": [
  {
   "cell_type": "code",
   "execution_count": 1,
   "metadata": {},
   "outputs": [
    {
     "name": "stdout",
     "output_type": "stream",
     "text": [
      "0.3745401188473625\n"
     ]
    }
   ],
   "source": [
    "import numpy as np\n",
    "\n",
    "np.random.seed(42)\n",
    "print(np.random.rand())"
   ]
  },
  {
   "cell_type": "code",
   "execution_count": 2,
   "metadata": {},
   "outputs": [
    {
     "name": "stdout",
     "output_type": "stream",
     "text": [
      "[[ 0.09200346  0.03990241  0.09997346 -0.05598654]\n",
      " [-0.02778873  0.0479682   0.09929115 -0.0367306 ]\n",
      " [-0.07269108 -0.023204   -0.03589614 -0.02671705]\n",
      " [ 0.04193031  0.08002849  0.00682309 -0.05054125]\n",
      " [ 0.03436131  0.01234582  0.00851198  0.07868952]\n",
      " [ 0.06855591 -0.03879748  0.02623396  0.03604777]]\n"
     ]
    }
   ],
   "source": [
    "from neuralnet import random_init\n",
    "\n",
    "w = random_init([6, 4])\n",
    "print(w)"
   ]
  },
  {
   "cell_type": "code",
   "execution_count": 5,
   "metadata": {},
   "outputs": [
    {
     "data": {
      "text/plain": [
       "array([0.65900114, 0.24243297, 0.09856589])"
      ]
     },
     "execution_count": 5,
     "metadata": {},
     "output_type": "execute_result"
    }
   ],
   "source": [
    "from neuralnet import SoftMaxCrossEntropy\n",
    "sc = SoftMaxCrossEntropy\n",
    "z = np.array([2.0, 1.0, 0.1])\n",
    "sc._softmax(sc, z)"
   ]
  },
  {
   "cell_type": "code",
   "execution_count": null,
   "metadata": {},
   "outputs": [],
   "source": []
  },
  {
   "cell_type": "code",
   "execution_count": null,
   "metadata": {},
   "outputs": [],
   "source": []
  }
 ],
 "metadata": {
  "kernelspec": {
   "display_name": ".venv",
   "language": "python",
   "name": "python3"
  },
  "language_info": {
   "codemirror_mode": {
    "name": "ipython",
    "version": 3
   },
   "file_extension": ".py",
   "mimetype": "text/x-python",
   "name": "python",
   "nbconvert_exporter": "python",
   "pygments_lexer": "ipython3",
   "version": "3.11.5"
  },
  "orig_nbformat": 4
 },
 "nbformat": 4,
 "nbformat_minor": 2
}
