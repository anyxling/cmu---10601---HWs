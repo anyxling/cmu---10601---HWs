{
 "cells": [
  {
   "cell_type": "code",
   "execution_count": 9,
   "metadata": {},
   "outputs": [],
   "source": [
    "import pandas as pd\n",
    "import numpy as np\n",
    "from collections import Counter\n"
   ]
  },
  {
   "cell_type": "code",
   "execution_count": 10,
   "metadata": {},
   "outputs": [
    {
     "data": {
      "text/html": [
       "<div>\n",
       "<style scoped>\n",
       "    .dataframe tbody tr th:only-of-type {\n",
       "        vertical-align: middle;\n",
       "    }\n",
       "\n",
       "    .dataframe tbody tr th {\n",
       "        vertical-align: top;\n",
       "    }\n",
       "\n",
       "    .dataframe thead th {\n",
       "        text-align: right;\n",
       "    }\n",
       "</style>\n",
       "<table border=\"1\" class=\"dataframe\">\n",
       "  <thead>\n",
       "    <tr style=\"text-align: right;\">\n",
       "      <th></th>\n",
       "      <th>chest_pain</th>\n",
       "      <th>thalassemia</th>\n",
       "      <th>heart_disease</th>\n",
       "    </tr>\n",
       "  </thead>\n",
       "  <tbody>\n",
       "    <tr>\n",
       "      <th>0</th>\n",
       "      <td>0</td>\n",
       "      <td>1</td>\n",
       "      <td>1</td>\n",
       "    </tr>\n",
       "    <tr>\n",
       "      <th>1</th>\n",
       "      <td>1</td>\n",
       "      <td>0</td>\n",
       "      <td>0</td>\n",
       "    </tr>\n",
       "    <tr>\n",
       "      <th>2</th>\n",
       "      <td>0</td>\n",
       "      <td>0</td>\n",
       "      <td>1</td>\n",
       "    </tr>\n",
       "    <tr>\n",
       "      <th>3</th>\n",
       "      <td>0</td>\n",
       "      <td>0</td>\n",
       "      <td>1</td>\n",
       "    </tr>\n",
       "    <tr>\n",
       "      <th>4</th>\n",
       "      <td>1</td>\n",
       "      <td>0</td>\n",
       "      <td>0</td>\n",
       "    </tr>\n",
       "  </tbody>\n",
       "</table>\n",
       "</div>"
      ],
      "text/plain": [
       "   chest_pain  thalassemia  heart_disease\n",
       "0           0            1              1\n",
       "1           1            0              0\n",
       "2           0            0              1\n",
       "3           0            0              1\n",
       "4           1            0              0"
      ]
     },
     "execution_count": 10,
     "metadata": {},
     "output_type": "execute_result"
    }
   ],
   "source": [
    "data = pd.read_csv('small_train.tsv', sep='\\t')\n",
    "data.head()"
   ]
  },
  {
   "cell_type": "code",
   "execution_count": 11,
   "metadata": {},
   "outputs": [
    {
     "data": {
      "text/plain": [
       "(array([0, 1]), array([14, 14]))"
      ]
     },
     "execution_count": 11,
     "metadata": {},
     "output_type": "execute_result"
    }
   ],
   "source": [
    "labels = data['heart_disease']\n",
    "values, counts = np.unique(labels, return_counts=True)\n",
    "values, counts"
   ]
  },
  {
   "cell_type": "code",
   "execution_count": 12,
   "metadata": {},
   "outputs": [],
   "source": [
    "# get H(y)\n"
   ]
  },
  {
   "cell_type": "code",
   "execution_count": 13,
   "metadata": {},
   "outputs": [],
   "source": [
    "# attribute 1"
   ]
  },
  {
   "cell_type": "code",
   "execution_count": 14,
   "metadata": {},
   "outputs": [
    {
     "data": {
      "text/plain": [
       "(0.5714285714285714,\n",
       " 0.4285714285714286,\n",
       " array([0, 1, 0, 0, 1, 1, 1, 0, 0, 1, 0, 1, 0, 0, 1, 0, 1, 0, 0, 0, 1, 1,\n",
       "        0, 0, 1, 0, 1, 0]))"
      ]
     },
     "execution_count": 14,
     "metadata": {},
     "output_type": "execute_result"
    }
   ],
   "source": [
    "# get probability of each value in attribute 1\n",
    "values, indices, counts = np.unique(data.iloc[:, 0], return_inverse = True, return_counts = True)\n",
    "prob_neg = counts[0] / len(indices)\n",
    "prob_pos = 1 - prob_neg\n",
    "prob_neg, prob_pos, indices"
   ]
  },
  {
   "cell_type": "code",
   "execution_count": 15,
   "metadata": {},
   "outputs": [
    {
     "ename": "NameError",
     "evalue": "name 'count' is not defined",
     "output_type": "error",
     "traceback": [
      "\u001b[0;31m---------------------------------------------------------------------------\u001b[0m",
      "\u001b[0;31mNameError\u001b[0m                                 Traceback (most recent call last)",
      "Cell \u001b[0;32mIn[15], line 20\u001b[0m\n\u001b[1;32m     17\u001b[0m     \u001b[39mif\u001b[39;00m i \u001b[39m==\u001b[39m \u001b[39m0\u001b[39m:\n\u001b[1;32m     18\u001b[0m         count_x0 \u001b[39m+\u001b[39m\u001b[39m=\u001b[39m \u001b[39m1\u001b[39m\n\u001b[0;32m---> 20\u001b[0m prob_x0_y0 \u001b[39m=\u001b[39m count \u001b[39m/\u001b[39m \u001b[39mlen\u001b[39m(y_neg_x0)\n\u001b[1;32m     21\u001b[0m prob_x0_y1 \u001b[39m=\u001b[39m \u001b[39m1\u001b[39m \u001b[39m-\u001b[39m prob_x0_y0\n\u001b[1;32m     22\u001b[0m entropy_y_x0 \u001b[39m=\u001b[39m \u001b[39m-\u001b[39mprob_x0_y0 \u001b[39m*\u001b[39m np\u001b[39m.\u001b[39mlog2(prob_x0_y0) \u001b[39m-\u001b[39m prob_x0_y1 \u001b[39m*\u001b[39m np\u001b[39m.\u001b[39mlog2(prob_x0_y1)\n",
      "\u001b[0;31mNameError\u001b[0m: name 'count' is not defined"
     ]
    }
   ],
   "source": [
    "# get H(y|x)\n",
    "\n",
    "# when x1 = 0\n",
    "y_neg_x0 = []\n",
    "y_pos_x0 = []\n",
    "y_neg_x1 = []\n",
    "y_pos_x1 = []\n",
    "\n",
    "for idx in range(len(indices)):\n",
    "    if indices[idx] == 0:\n",
    "        y_neg_x0.append(labels[idx])\n",
    "    else:\n",
    "        y_pos_x0.append(labels[idx])\n",
    "\n",
    "count_x0 = 0\n",
    "for i in y_neg_x0:\n",
    "    if i == 0:\n",
    "        count_x0 += 1\n",
    "    \n",
    "prob_x0_y0 = count / len(y_neg_x0)\n",
    "prob_x0_y1 = 1 - prob_x0_y0\n",
    "entropy_y_x0 = -prob_x0_y0 * np.log2(prob_x0_y0) - prob_x0_y1 * np.log2(prob_x0_y1)\n",
    "\n",
    "# when x1 = 1\n",
    "for idx in range(len(indices)):\n",
    "    if indices[idx] == 1:\n",
    "        y_neg_x1.append(labels[idx])\n",
    "    else:\n",
    "        y_pos_x1.append(labels[idx])\n",
    "\n",
    "count_x1 = 0\n",
    "for i in y_neg_x1:\n",
    "    if i == 0:\n",
    "        count_x1 += 1\n",
    "    \n",
    "prob_x1_y0 = count_x1 / len(y_neg_x1)\n",
    "prob_x1_y1 = 1 - prob_x1_y0\n",
    "entropy_y_x1 = -prob_x1_y0 * np.log2(prob_x1_y0) - prob_x1_y1 * np.log2(prob_x1_y1)\n",
    "\n",
    "\n"
   ]
  },
  {
   "cell_type": "code",
   "execution_count": null,
   "metadata": {},
   "outputs": [
    {
     "data": {
      "text/plain": [
       "0.7421685375402277"
      ]
     },
     "execution_count": 31,
     "metadata": {},
     "output_type": "execute_result"
    }
   ],
   "source": [
    "cond_entropy = prob_neg * entropy_y_x0 + prob_pos * entropy_y_x1\n",
    "cond_entropy"
   ]
  },
  {
   "cell_type": "code",
   "execution_count": 16,
   "metadata": {},
   "outputs": [
    {
     "ename": "ImportError",
     "evalue": "cannot import name 'Prep' from 'decision_tree' (/Users/anyxling/Downloads/cmu_10601_hws/hw2/handout/decision_tree.py)",
     "output_type": "error",
     "traceback": [
      "\u001b[0;31m---------------------------------------------------------------------------\u001b[0m",
      "\u001b[0;31mImportError\u001b[0m                               Traceback (most recent call last)",
      "Cell \u001b[0;32mIn[16], line 1\u001b[0m\n\u001b[0;32m----> 1\u001b[0m \u001b[39mfrom\u001b[39;00m \u001b[39mdecision_tree\u001b[39;00m \u001b[39mimport\u001b[39;00m Prep\n\u001b[1;32m      2\u001b[0m \u001b[39mfrom\u001b[39;00m \u001b[39minspection\u001b[39;00m \u001b[39mimport\u001b[39;00m get_entropy\n\u001b[1;32m      4\u001b[0m attr_num \u001b[39m=\u001b[39m data\u001b[39m.\u001b[39mshape[\u001b[39m1\u001b[39m] \u001b[39m-\u001b[39m \u001b[39m1\u001b[39m\n",
      "\u001b[0;31mImportError\u001b[0m: cannot import name 'Prep' from 'decision_tree' (/Users/anyxling/Downloads/cmu_10601_hws/hw2/handout/decision_tree.py)"
     ]
    }
   ],
   "source": [
    "from decision_tree import Prep\n",
    "from inspection import get_entropy\n",
    "\n",
    "attr_num = data.shape[1] - 1\n",
    "mi_ls = []\n",
    "for x in range(attr_num):\n",
    "    prob_neg, prob_pos, indices = Prep.calc_prob(data, x)\n",
    "    cond_entropy = Prep.calc_conditional_entropy(indices, prob_neg, prob_pos, labels)\n",
    "    entropy = get_entropy(labels)\n",
    "    mi = Prep.calc_mi(entropy, cond_entropy)\n",
    "    if mi > 0:\n",
    "        mi_ls.append(mi)\n",
    "    \n",
    "max_mi = max(mi_ls)\n",
    "# It is possible for different columns to have equal values for mutual information. \n",
    "# In this case, you should split on the first column to break ties\n",
    "max_mi_attr_idx = mi_ls.index(max_mi)\n",
    "max_mi_attr_idx\n",
    "            \n"
   ]
  },
  {
   "cell_type": "code",
   "execution_count": 17,
   "metadata": {},
   "outputs": [],
   "source": [
    "import numpy as np\n",
    "import pandas as pd\n",
    "\n",
    "class Node:\n",
    "    def __init__(self):\n",
    "        self.left = None\n",
    "        self.right = None\n",
    "        self.attr = None\n",
    "        self.vote = None\n",
    "        self.count = {'pos': 0, 'neg': 0}\n",
    "\n",
    "\n",
    "class DecisionTree:\n",
    "    def __init__(self, max_depth):\n",
    "        self.root = Node()\n",
    "        self.max_depth = max_depth\n",
    "\n",
    "    def fit(self, data, labels):\n",
    "        self._build_tree(self.root, data, labels, depth=0)\n",
    "\n",
    "    def _build_tree(self, current_node, data, labels, depth):\n",
    "        # Calculate positive and negative counts for current data\n",
    "        pos_count = sum(labels)\n",
    "        neg_count = len(labels) - pos_count\n",
    "\n",
    "        current_node.count = {'pos': pos_count, 'neg': neg_count}\n",
    "\n",
    "        # Base cases\n",
    "        if depth == self.max_depth or len(data.columns) == 0:\n",
    "            current_node.vote = 1 if pos_count >= neg_count else 0\n",
    "            return\n",
    "        \n",
    "        best_attr_idx = self.best_split(data, labels)\n",
    "\n",
    "        if best_attr_idx is None:\n",
    "            current_node.vote = 1 if pos_count >= neg_count else 0\n",
    "            return\n",
    "\n",
    "        current_node.attr = best_attr_idx\n",
    "\n",
    "        # Split data based on the best attribute\n",
    "        left_mask = data.iloc[:, best_attr_idx] == 0\n",
    "        right_mask = ~left_mask\n",
    "\n",
    "        left_data = data[left_mask].drop(columns=data.columns[best_attr_idx])\n",
    "        left_labels = labels[left_mask]\n",
    "\n",
    "        right_data = data[right_mask].drop(columns=data.columns[best_attr_idx])\n",
    "        right_labels = labels[right_mask]\n",
    "\n",
    "        current_node.left = Node()\n",
    "        current_node.right = Node()\n",
    "\n",
    "        # Recursively build left and right subtree\n",
    "        self._build_tree(current_node.left, left_data, left_labels, depth+1)\n",
    "        self._build_tree(current_node.right, right_data, right_labels, depth+1)\n",
    "\n",
    "    def best_split(self, data, labels):\n",
    "        # Dummy function for the sake of example\n",
    "        # Should implement mutual information calculation here\n",
    "        return None  # Placeholder\n",
    "\n",
    "    def print_tree(self, node=None, depth=0, attr_value=None):\n",
    "        if node is None:\n",
    "            node = self.root\n",
    "\n",
    "        # Base case: if node is a leaf\n",
    "        if node.vote is not None:\n",
    "            print('| ' * depth + (attr_value + \": \" if attr_value else \"\") + f\"[{node.count['neg'] + node.count['pos']} {node.count['neg']}/{node.count['pos']}]\")\n",
    "            return\n",
    "        \n",
    "        print('| ' * depth + (attr_value + \": \" if attr_value else \"\") + f\"[{node.count['neg'] + node.count['pos']} {node.count['neg']}/{node.count['pos']}]\")\n",
    "        \n",
    "        left_attr_value = f\"{data.columns[node.attr]} = 0\"\n",
    "        self.print_tree(node.left, depth+1, left_attr_value)\n",
    "\n",
    "        right_attr_value = f\"{data.columns[node.attr]} = 1\"\n",
    "        self.print_tree(node.right, depth+1, right_attr_value)\n",
    "\n"
   ]
  },
  {
   "cell_type": "code",
   "execution_count": 18,
   "metadata": {},
   "outputs": [
    {
     "name": "stdout",
     "output_type": "stream",
     "text": [
      "[4 2/2]\n"
     ]
    }
   ],
   "source": [
    "# Example Usage\n",
    "data = pd.DataFrame({\n",
    "    'Feature1': [0, 1, 0, 1],\n",
    "    'Feature2': [1, 1, 0, 0],\n",
    "})\n",
    "labels = pd.Series([0, 1, 1, 0])\n",
    "\n",
    "tree = DecisionTree(max_depth=2)\n",
    "tree.fit(data, labels)\n",
    "tree.print_tree()"
   ]
  },
  {
   "cell_type": "code",
   "execution_count": 44,
   "metadata": {},
   "outputs": [
    {
     "data": {
      "text/html": [
       "<div>\n",
       "<style scoped>\n",
       "    .dataframe tbody tr th:only-of-type {\n",
       "        vertical-align: middle;\n",
       "    }\n",
       "\n",
       "    .dataframe tbody tr th {\n",
       "        vertical-align: top;\n",
       "    }\n",
       "\n",
       "    .dataframe thead th {\n",
       "        text-align: right;\n",
       "    }\n",
       "</style>\n",
       "<table border=\"1\" class=\"dataframe\">\n",
       "  <thead>\n",
       "    <tr style=\"text-align: right;\">\n",
       "      <th></th>\n",
       "      <th>Outlook(X1)</th>\n",
       "      <th>Temperature(X2)</th>\n",
       "      <th>Humidity(X3)</th>\n",
       "      <th>Play Tennis(Y)</th>\n",
       "    </tr>\n",
       "  </thead>\n",
       "  <tbody>\n",
       "    <tr>\n",
       "      <th>0</th>\n",
       "      <td>sunny</td>\n",
       "      <td>hot</td>\n",
       "      <td>high</td>\n",
       "      <td>0</td>\n",
       "    </tr>\n",
       "    <tr>\n",
       "      <th>1</th>\n",
       "      <td>overcast</td>\n",
       "      <td>hot</td>\n",
       "      <td>high</td>\n",
       "      <td>1</td>\n",
       "    </tr>\n",
       "    <tr>\n",
       "      <th>2</th>\n",
       "      <td>rain</td>\n",
       "      <td>mild</td>\n",
       "      <td>high</td>\n",
       "      <td>1</td>\n",
       "    </tr>\n",
       "    <tr>\n",
       "      <th>3</th>\n",
       "      <td>rain</td>\n",
       "      <td>cool</td>\n",
       "      <td>normal</td>\n",
       "      <td>1</td>\n",
       "    </tr>\n",
       "    <tr>\n",
       "      <th>4</th>\n",
       "      <td>sunny</td>\n",
       "      <td>mild</td>\n",
       "      <td>high</td>\n",
       "      <td>0</td>\n",
       "    </tr>\n",
       "    <tr>\n",
       "      <th>5</th>\n",
       "      <td>sunny</td>\n",
       "      <td>mild</td>\n",
       "      <td>normal</td>\n",
       "      <td>1</td>\n",
       "    </tr>\n",
       "    <tr>\n",
       "      <th>6</th>\n",
       "      <td>rain</td>\n",
       "      <td>mild</td>\n",
       "      <td>normal</td>\n",
       "      <td>1</td>\n",
       "    </tr>\n",
       "    <tr>\n",
       "      <th>7</th>\n",
       "      <td>overcast</td>\n",
       "      <td>hot</td>\n",
       "      <td>normal</td>\n",
       "      <td>1</td>\n",
       "    </tr>\n",
       "  </tbody>\n",
       "</table>\n",
       "</div>"
      ],
      "text/plain": [
       "  Outlook(X1) Temperature(X2) Humidity(X3)  Play Tennis(Y)\n",
       "0       sunny             hot         high               0\n",
       "1    overcast             hot         high               1\n",
       "2        rain            mild         high               1\n",
       "3        rain            cool       normal               1\n",
       "4       sunny            mild         high               0\n",
       "5       sunny            mild       normal               1\n",
       "6        rain            mild       normal               1\n",
       "7    overcast             hot       normal               1"
      ]
     },
     "execution_count": 44,
     "metadata": {},
     "output_type": "execute_result"
    }
   ],
   "source": [
    "recitation_data = {\n",
    "    'Outlook(X1)': ['sunny', 'overcast', 'rain', 'rain', 'sunny', 'sunny', 'rain', 'overcast'], \n",
    "    'Temperature(X2)':['hot', 'hot', 'mild', 'cool', 'mild', 'mild', 'mild', 'hot'], \n",
    "    'Humidity(X3)': ['high', 'high', 'high', 'normal', 'high', 'normal', 'normal', 'normal'], \n",
    "    'Play Tennis(Y)': [0, 1, 1, 1, 0, 1, 1, 1]\n",
    "}\n",
    "\n",
    "df = pd.DataFrame(recitation_data)\n",
    "df"
   ]
  },
  {
   "cell_type": "code",
   "execution_count": 45,
   "metadata": {},
   "outputs": [
    {
     "data": {
      "text/plain": [
       "0.8112781244591328"
      ]
     },
     "execution_count": 45,
     "metadata": {},
     "output_type": "execute_result"
    }
   ],
   "source": [
    "# get_entropy correct!\n",
    "from inspection import get_entropy\n",
    "entropy = get_entropy(df.iloc[:, -1])\n",
    "entropy"
   ]
  },
  {
   "cell_type": "code",
   "execution_count": 57,
   "metadata": {},
   "outputs": [],
   "source": [
    "# get_cond_entropy H(Y|X1)\n",
    "\n",
    "def best_split(data):\n",
    "    y_entropy = get_entropy(data.iloc[:, -1])\n",
    "    mi_ls = []\n",
    "\n",
    "    for col_idx in range(len(data.columns) - 1):\n",
    "        values, counts = np.unique(data.iloc[:, col_idx], return_counts = True)\n",
    "        total_cond_entropy = 0\n",
    "        for val_idx in range(len(values)):\n",
    "            mask = data.iloc[:, col_idx] == values[val_idx]\n",
    "            filtered_data = data[mask]\n",
    "            entropy = get_entropy(filtered_data.iloc[:, -1])\n",
    "            prob = counts[val_idx] / sum(counts)\n",
    "            weighted_entropy = prob * entropy\n",
    "            total_cond_entropy += weighted_entropy\n",
    "        mi = y_entropy - total_cond_entropy\n",
    "        if mi > 0:\n",
    "            mi_ls.append(mi)\n",
    "        else:\n",
    "            return \n",
    "    \n",
    "    max_mi = max(mi_ls)\n",
    "    attr_idx = mi_ls.index(max_mi)\n",
    "\n",
    "    return data.columns[attr_idx]\n",
    "\n"
   ]
  },
  {
   "cell_type": "code",
   "execution_count": 64,
   "metadata": {},
   "outputs": [
    {
     "data": {
      "text/html": [
       "<div>\n",
       "<style scoped>\n",
       "    .dataframe tbody tr th:only-of-type {\n",
       "        vertical-align: middle;\n",
       "    }\n",
       "\n",
       "    .dataframe tbody tr th {\n",
       "        vertical-align: top;\n",
       "    }\n",
       "\n",
       "    .dataframe thead th {\n",
       "        text-align: right;\n",
       "    }\n",
       "</style>\n",
       "<table border=\"1\" class=\"dataframe\">\n",
       "  <thead>\n",
       "    <tr style=\"text-align: right;\">\n",
       "      <th></th>\n",
       "      <th>Temperature(X2)</th>\n",
       "      <th>Humidity(X3)</th>\n",
       "      <th>Play Tennis(Y)</th>\n",
       "    </tr>\n",
       "  </thead>\n",
       "  <tbody>\n",
       "    <tr>\n",
       "      <th>1</th>\n",
       "      <td>hot</td>\n",
       "      <td>high</td>\n",
       "      <td>1</td>\n",
       "    </tr>\n",
       "    <tr>\n",
       "      <th>7</th>\n",
       "      <td>hot</td>\n",
       "      <td>normal</td>\n",
       "      <td>1</td>\n",
       "    </tr>\n",
       "  </tbody>\n",
       "</table>\n",
       "</div>"
      ],
      "text/plain": [
       "  Temperature(X2) Humidity(X3)  Play Tennis(Y)\n",
       "1             hot         high               1\n",
       "7             hot       normal               1"
      ]
     },
     "execution_count": 64,
     "metadata": {},
     "output_type": "execute_result"
    }
   ],
   "source": [
    "unique_val, counts = np.unique(df.iloc[:, 0], return_counts = True)\n",
    "x1_overcast_mask = df.iloc[:, 0] == unique_val[0]\n",
    "best_attr = 'Outlook(X1)'\n",
    "x1_overcast_df = df[x1_overcast_mask].drop(columns=[f'{best_attr}'])\n",
    "x1_overcast_df\n",
    "# entropy_overcast = get_entropy(x1_overcast_df.iloc[:, -1])\n",
    "# x1_overcast_prob = counts[0] / sum(counts)\n",
    "\n",
    "# x1_rain_mask = df.iloc[:, 0] == unique_val[1]\n",
    "# x1_rain_df = df[x1_rain_mask]\n",
    "# entropy_rain = get_entropy(x1_rain_df.iloc[:, -1])\n",
    "# x1_rain_prob = counts[1] / sum(counts)\n",
    "\n",
    "# x1_sunny_mask = df.iloc[:, 0] == unique_val[2]\n",
    "# x1_sunny_df = df[x1_sunny_mask]\n",
    "# entropy_sunny = get_entropy(x1_sunny_df.iloc[:, -1])\n",
    "# x1_sunny_prob = counts[2] / sum(counts)\n",
    "\n",
    "# total_entropy = x1_overcast_prob * entropy_overcast + x1_rain_prob * entropy_rain + x1_sunny_prob * entropy_sunny\n",
    "# mi = entropy - total_entropy"
   ]
  },
  {
   "cell_type": "code",
   "execution_count": 58,
   "metadata": {},
   "outputs": [
    {
     "name": "stderr",
     "output_type": "stream",
     "text": [
      "/Users/anyxling/Downloads/cmu_10601_hws/hw2/handout/inspection.py:19: RuntimeWarning: divide by zero encountered in log2\n",
      "  log_neg, log_pos = np.log2(prob_neg), np.log2(prob_pos)\n"
     ]
    },
    {
     "data": {
      "text/plain": [
       "'Outlook(X1)'"
      ]
     },
     "execution_count": 58,
     "metadata": {},
     "output_type": "execute_result"
    }
   ],
   "source": [
    "col = best_split(df)\n",
    "col"
   ]
  },
  {
   "cell_type": "code",
   "execution_count": 60,
   "metadata": {},
   "outputs": [
    {
     "data": {
      "text/html": [
       "<div>\n",
       "<style scoped>\n",
       "    .dataframe tbody tr th:only-of-type {\n",
       "        vertical-align: middle;\n",
       "    }\n",
       "\n",
       "    .dataframe tbody tr th {\n",
       "        vertical-align: top;\n",
       "    }\n",
       "\n",
       "    .dataframe thead th {\n",
       "        text-align: right;\n",
       "    }\n",
       "</style>\n",
       "<table border=\"1\" class=\"dataframe\">\n",
       "  <thead>\n",
       "    <tr style=\"text-align: right;\">\n",
       "      <th></th>\n",
       "      <th>Temperature(X2)</th>\n",
       "      <th>Play Tennis(Y)</th>\n",
       "    </tr>\n",
       "  </thead>\n",
       "  <tbody>\n",
       "    <tr>\n",
       "      <th>0</th>\n",
       "      <td>hot</td>\n",
       "      <td>0</td>\n",
       "    </tr>\n",
       "    <tr>\n",
       "      <th>1</th>\n",
       "      <td>hot</td>\n",
       "      <td>1</td>\n",
       "    </tr>\n",
       "    <tr>\n",
       "      <th>2</th>\n",
       "      <td>mild</td>\n",
       "      <td>1</td>\n",
       "    </tr>\n",
       "    <tr>\n",
       "      <th>3</th>\n",
       "      <td>cool</td>\n",
       "      <td>1</td>\n",
       "    </tr>\n",
       "    <tr>\n",
       "      <th>4</th>\n",
       "      <td>mild</td>\n",
       "      <td>0</td>\n",
       "    </tr>\n",
       "    <tr>\n",
       "      <th>5</th>\n",
       "      <td>mild</td>\n",
       "      <td>1</td>\n",
       "    </tr>\n",
       "    <tr>\n",
       "      <th>6</th>\n",
       "      <td>mild</td>\n",
       "      <td>1</td>\n",
       "    </tr>\n",
       "    <tr>\n",
       "      <th>7</th>\n",
       "      <td>hot</td>\n",
       "      <td>1</td>\n",
       "    </tr>\n",
       "  </tbody>\n",
       "</table>\n",
       "</div>"
      ],
      "text/plain": [
       "  Temperature(X2)  Play Tennis(Y)\n",
       "0             hot               0\n",
       "1             hot               1\n",
       "2            mild               1\n",
       "3            cool               1\n",
       "4            mild               0\n",
       "5            mild               1\n",
       "6            mild               1\n",
       "7             hot               1"
      ]
     },
     "execution_count": 60,
     "metadata": {},
     "output_type": "execute_result"
    }
   ],
   "source": [
    "df_small = df[['Temperature(X2)', 'Play Tennis(Y)']]\n",
    "df_small"
   ]
  },
  {
   "cell_type": "code",
   "execution_count": 62,
   "metadata": {},
   "outputs": [
    {
     "name": "stderr",
     "output_type": "stream",
     "text": [
      "/Users/anyxling/Downloads/cmu_10601_hws/hw2/handout/inspection.py:19: RuntimeWarning: divide by zero encountered in log2\n",
      "  log_neg, log_pos = np.log2(prob_neg), np.log2(prob_pos)\n"
     ]
    },
    {
     "data": {
      "text/plain": [
       "'Temperature(X2)'"
      ]
     },
     "execution_count": 62,
     "metadata": {},
     "output_type": "execute_result"
    }
   ],
   "source": [
    "col_small = best_split(df_small)\n",
    "col_small"
   ]
  },
  {
   "cell_type": "code",
   "execution_count": 65,
   "metadata": {},
   "outputs": [
    {
     "name": "stdout",
     "output_type": "stream",
     "text": [
      "Outlook(X1)\n",
      "Temperature(X2)\n",
      "Humidity(X3)\n",
      "Play Tennis(Y)\n"
     ]
    }
   ],
   "source": [
    "for row in df:\n",
    "    print(row)"
   ]
  },
  {
   "cell_type": "code",
   "execution_count": 66,
   "metadata": {},
   "outputs": [
    {
     "name": "stdout",
     "output_type": "stream",
     "text": [
      "0       sunny\n",
      "1    overcast\n",
      "2        rain\n",
      "3        rain\n",
      "4       sunny\n",
      "5       sunny\n",
      "6        rain\n",
      "7    overcast\n",
      "Name: Outlook(X1), dtype: object\n"
     ]
    }
   ],
   "source": [
    "print(df['Outlook(X1)'])\n"
   ]
  },
  {
   "cell_type": "code",
   "execution_count": null,
   "metadata": {},
   "outputs": [],
   "source": []
  }
 ],
 "metadata": {
  "kernelspec": {
   "display_name": "base",
   "language": "python",
   "name": "python3"
  },
  "language_info": {
   "codemirror_mode": {
    "name": "ipython",
    "version": 3
   },
   "file_extension": ".py",
   "mimetype": "text/x-python",
   "name": "python",
   "nbconvert_exporter": "python",
   "pygments_lexer": "ipython3",
   "version": "3.9.16"
  },
  "orig_nbformat": 4
 },
 "nbformat": 4,
 "nbformat_minor": 2
}
