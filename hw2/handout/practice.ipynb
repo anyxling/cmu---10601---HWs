{
 "cells": [
  {
   "cell_type": "code",
   "execution_count": 22,
   "metadata": {},
   "outputs": [],
   "source": [
    "import pandas as pd\n",
    "import numpy as np\n",
    "from collections import Counter\n"
   ]
  },
  {
   "cell_type": "code",
   "execution_count": 23,
   "metadata": {},
   "outputs": [
    {
     "data": {
      "text/html": [
       "<div>\n",
       "<style scoped>\n",
       "    .dataframe tbody tr th:only-of-type {\n",
       "        vertical-align: middle;\n",
       "    }\n",
       "\n",
       "    .dataframe tbody tr th {\n",
       "        vertical-align: top;\n",
       "    }\n",
       "\n",
       "    .dataframe thead th {\n",
       "        text-align: right;\n",
       "    }\n",
       "</style>\n",
       "<table border=\"1\" class=\"dataframe\">\n",
       "  <thead>\n",
       "    <tr style=\"text-align: right;\">\n",
       "      <th></th>\n",
       "      <th>chest_pain</th>\n",
       "      <th>thalassemia</th>\n",
       "      <th>heart_disease</th>\n",
       "    </tr>\n",
       "  </thead>\n",
       "  <tbody>\n",
       "    <tr>\n",
       "      <th>0</th>\n",
       "      <td>0</td>\n",
       "      <td>1</td>\n",
       "      <td>1</td>\n",
       "    </tr>\n",
       "    <tr>\n",
       "      <th>1</th>\n",
       "      <td>1</td>\n",
       "      <td>0</td>\n",
       "      <td>0</td>\n",
       "    </tr>\n",
       "    <tr>\n",
       "      <th>2</th>\n",
       "      <td>0</td>\n",
       "      <td>0</td>\n",
       "      <td>1</td>\n",
       "    </tr>\n",
       "    <tr>\n",
       "      <th>3</th>\n",
       "      <td>0</td>\n",
       "      <td>0</td>\n",
       "      <td>1</td>\n",
       "    </tr>\n",
       "    <tr>\n",
       "      <th>4</th>\n",
       "      <td>1</td>\n",
       "      <td>0</td>\n",
       "      <td>0</td>\n",
       "    </tr>\n",
       "  </tbody>\n",
       "</table>\n",
       "</div>"
      ],
      "text/plain": [
       "   chest_pain  thalassemia  heart_disease\n",
       "0           0            1              1\n",
       "1           1            0              0\n",
       "2           0            0              1\n",
       "3           0            0              1\n",
       "4           1            0              0"
      ]
     },
     "execution_count": 23,
     "metadata": {},
     "output_type": "execute_result"
    }
   ],
   "source": [
    "data = pd.read_csv('small_train.tsv', sep='\\t')\n",
    "data.head()"
   ]
  },
  {
   "cell_type": "code",
   "execution_count": 24,
   "metadata": {},
   "outputs": [
    {
     "data": {
      "text/plain": [
       "(array([0, 1]), array([14, 14]))"
      ]
     },
     "execution_count": 24,
     "metadata": {},
     "output_type": "execute_result"
    }
   ],
   "source": [
    "labels = data['heart_disease']\n",
    "values, counts = np.unique(labels, return_counts=True)\n",
    "values, counts"
   ]
  },
  {
   "cell_type": "code",
   "execution_count": null,
   "metadata": {},
   "outputs": [],
   "source": [
    "# get H(y)\n"
   ]
  },
  {
   "cell_type": "code",
   "execution_count": null,
   "metadata": {},
   "outputs": [],
   "source": [
    "# attribute 1"
   ]
  },
  {
   "cell_type": "code",
   "execution_count": 37,
   "metadata": {},
   "outputs": [
    {
     "data": {
      "text/plain": [
       "(0.5714285714285714,\n",
       " 0.4285714285714286,\n",
       " array([0, 1, 0, 0, 1, 1, 1, 0, 0, 1, 0, 1, 0, 0, 1, 0, 1, 0, 0, 0, 1, 1,\n",
       "        0, 0, 1, 0, 1, 0]))"
      ]
     },
     "execution_count": 37,
     "metadata": {},
     "output_type": "execute_result"
    }
   ],
   "source": [
    "# get probability of each value in attribute 1\n",
    "values, indices, counts = np.unique(data.iloc[:, 0], return_inverse = True, return_counts = True)\n",
    "prob_neg = counts[0] / len(indices)\n",
    "prob_pos = 1 - prob_neg\n",
    "prob_neg, prob_pos, indices"
   ]
  },
  {
   "cell_type": "code",
   "execution_count": 30,
   "metadata": {},
   "outputs": [],
   "source": [
    "# get H(y|x)\n",
    "\n",
    "# when x1 = 0\n",
    "y_neg_x0 = []\n",
    "y_pos_x0 = []\n",
    "y_neg_x1 = []\n",
    "y_pos_x1 = []\n",
    "\n",
    "for idx in range(len(indices)):\n",
    "    if indices[idx] == 0:\n",
    "        y_neg_x0.append(labels[idx])\n",
    "    else:\n",
    "        y_pos_x0.append(labels[idx])\n",
    "\n",
    "count_x0 = 0\n",
    "for i in y_neg_x0:\n",
    "    if i == 0:\n",
    "        count_x0 += 1\n",
    "    \n",
    "prob_x0_y0 = count / len(y_neg_x0)\n",
    "prob_x0_y1 = 1 - prob_x0_y0\n",
    "entropy_y_x0 = -prob_x0_y0 * np.log2(prob_x0_y0) - prob_x0_y1 * np.log2(prob_x0_y1)\n",
    "\n",
    "# when x1 = 1\n",
    "for idx in range(len(indices)):\n",
    "    if indices[idx] == 1:\n",
    "        y_neg_x1.append(labels[idx])\n",
    "    else:\n",
    "        y_pos_x1.append(labels[idx])\n",
    "\n",
    "count_x1 = 0\n",
    "for i in y_neg_x1:\n",
    "    if i == 0:\n",
    "        count_x1 += 1\n",
    "    \n",
    "prob_x1_y0 = count_x1 / len(y_neg_x1)\n",
    "prob_x1_y1 = 1 - prob_x1_y0\n",
    "entropy_y_x1 = -prob_x1_y0 * np.log2(prob_x1_y0) - prob_x1_y1 * np.log2(prob_x1_y1)\n",
    "\n",
    "\n"
   ]
  },
  {
   "cell_type": "code",
   "execution_count": 31,
   "metadata": {},
   "outputs": [
    {
     "data": {
      "text/plain": [
       "0.7421685375402277"
      ]
     },
     "execution_count": 31,
     "metadata": {},
     "output_type": "execute_result"
    }
   ],
   "source": [
    "cond_entropy = prob_neg * entropy_y_x0 + prob_pos * entropy_y_x1\n",
    "cond_entropy"
   ]
  },
  {
   "cell_type": "code",
   "execution_count": 30,
   "metadata": {},
   "outputs": [
    {
     "data": {
      "text/plain": [
       "0"
      ]
     },
     "execution_count": 30,
     "metadata": {},
     "output_type": "execute_result"
    }
   ],
   "source": [
    "from decision_tree import Prep\n",
    "from inspection import get_entropy\n",
    "\n",
    "attr_num = data.shape[1] - 1\n",
    "mi_ls = []\n",
    "for x in range(attr_num):\n",
    "    prob_neg, prob_pos, indices = Prep.calc_prob(data, x)\n",
    "    cond_entropy = Prep.calc_conditional_entropy(indices, prob_neg, prob_pos, labels)\n",
    "    entropy = get_entropy(labels)\n",
    "    mi = Prep.calc_mi(entropy, cond_entropy)\n",
    "    if mi > 0:\n",
    "        mi_ls.append(mi)\n",
    "    \n",
    "max_mi = max(mi_ls)\n",
    "# It is possible for different columns to have equal values for mutual information. \n",
    "# In this case, you should split on the first column to break ties\n",
    "max_mi_attr_idx = mi_ls.index(max_mi)\n",
    "max_mi_attr_idx\n",
    "            \n"
   ]
  },
  {
   "cell_type": "code",
   "execution_count": 31,
   "metadata": {},
   "outputs": [
    {
     "ename": "ImportError",
     "evalue": "cannot import name 'best_split' from 'decision_tree' (/Users/anyxling/Downloads/cmu_10601_hws/hw2/handout/decision_tree.py)",
     "output_type": "error",
     "traceback": [
      "\u001b[0;31m---------------------------------------------------------------------------\u001b[0m",
      "\u001b[0;31mImportError\u001b[0m                               Traceback (most recent call last)",
      "Cell \u001b[0;32mIn[31], line 1\u001b[0m\n\u001b[0;32m----> 1\u001b[0m \u001b[39mfrom\u001b[39;00m \u001b[39mdecision_tree\u001b[39;00m \u001b[39mimport\u001b[39;00m best_split\n",
      "\u001b[0;31mImportError\u001b[0m: cannot import name 'best_split' from 'decision_tree' (/Users/anyxling/Downloads/cmu_10601_hws/hw2/handout/decision_tree.py)"
     ]
    }
   ],
   "source": [
    "from decision_tree import best_split"
   ]
  },
  {
   "cell_type": "code",
   "execution_count": 26,
   "metadata": {},
   "outputs": [
    {
     "ename": "NameError",
     "evalue": "name 'best_split' is not defined",
     "output_type": "error",
     "traceback": [
      "\u001b[0;31m---------------------------------------------------------------------------\u001b[0m",
      "\u001b[0;31mNameError\u001b[0m                                 Traceback (most recent call last)",
      "Cell \u001b[0;32mIn[26], line 1\u001b[0m\n\u001b[0;32m----> 1\u001b[0m best_attr_idx \u001b[39m=\u001b[39m best_split(data, labels)\n\u001b[1;32m      2\u001b[0m best_attr_idx\n",
      "\u001b[0;31mNameError\u001b[0m: name 'best_split' is not defined"
     ]
    }
   ],
   "source": [
    "best_attr_idx = best_split(data, labels)\n",
    "best_attr_idx"
   ]
  },
  {
   "cell_type": "code",
   "execution_count": null,
   "metadata": {},
   "outputs": [],
   "source": []
  }
 ],
 "metadata": {
  "kernelspec": {
   "display_name": "base",
   "language": "python",
   "name": "python3"
  },
  "language_info": {
   "codemirror_mode": {
    "name": "ipython",
    "version": 3
   },
   "file_extension": ".py",
   "mimetype": "text/x-python",
   "name": "python",
   "nbconvert_exporter": "python",
   "pygments_lexer": "ipython3",
   "version": "3.9.16"
  },
  "orig_nbformat": 4
 },
 "nbformat": 4,
 "nbformat_minor": 2
}
